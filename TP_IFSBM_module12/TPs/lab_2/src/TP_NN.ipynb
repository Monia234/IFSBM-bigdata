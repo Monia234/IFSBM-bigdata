{
  "nbformat": 4,
  "nbformat_minor": 0,
  "metadata": {
    "colab": {
      "name": "TP_NN.ipynb",
      "provenance": [],
      "collapsed_sections": []
    },
    "kernelspec": {
      "name": "ir",
      "display_name": "R"
    }
  },
  "cells": [
    {
      "cell_type": "code",
      "metadata": {
        "id": "rCEtur7fajGn",
        "colab_type": "code",
        "outputId": "f20be5da-77ce-4ca4-b2de-f6a949b05c3b",
        "colab": {
          "base_uri": "https://localhost:8080/",
          "height": 101
        }
      },
      "source": [
        "cat(system('python3 -c \"from google.colab import drive\\ndrive.mount()\"', intern=TRUE), sep='\\n', wait=TRUE)"
      ],
      "execution_count": 1,
      "outputs": [
        {
          "output_type": "stream",
          "text": [
            "Warning message in system(\"python3 -c \\\"from google.colab import drive\\ndrive.mount()\\\"\", :\n",
            "“running command 'python3 -c \"from google.colab import drive\n",
            "drive.mount()\"' had status 1”\n"
          ],
          "name": "stderr"
        },
        {
          "output_type": "stream",
          "text": [
            "\n",
            "TRUE\n"
          ],
          "name": "stdout"
        }
      ]
    },
    {
      "cell_type": "markdown",
      "metadata": {
        "id": "j0T9qpAxU0nR",
        "colab_type": "text"
      },
      "source": [
        "#### INSTALL PACKAGES"
      ]
    },
    {
      "cell_type": "markdown",
      "metadata": {
        "id": "WfUHc3nbaIxA",
        "colab_type": "text"
      },
      "source": [
        "The installation takes a few minutes."
      ]
    },
    {
      "cell_type": "code",
      "metadata": {
        "id": "RwaxRseyTxKL",
        "colab_type": "code",
        "outputId": "fb850499-a467-4605-be42-9a1da32489b2",
        "colab": {
          "base_uri": "https://localhost:8080/",
          "height": 269
        }
      },
      "source": [
        "install.packages(\"keras\")\n",
        "install.packages(\"dplyr\")\n",
        "install.packages(\"cgdsr\")"
      ],
      "execution_count": 2,
      "outputs": [
        {
          "output_type": "stream",
          "text": [
            "Installing package into ‘/usr/local/lib/R/site-library’\n",
            "(as ‘lib’ is unspecified)\n",
            "\n",
            "also installing the dependencies ‘rappdirs’, ‘config’, ‘reticulate’, ‘tensorflow’, ‘tfruns’\n",
            "\n",
            "\n",
            "Installing package into ‘/usr/local/lib/R/site-library’\n",
            "(as ‘lib’ is unspecified)\n",
            "\n",
            "Installing package into ‘/usr/local/lib/R/site-library’\n",
            "(as ‘lib’ is unspecified)\n",
            "\n",
            "also installing the dependencies ‘R.oo’, ‘R.methodsS3’\n",
            "\n",
            "\n"
          ],
          "name": "stderr"
        }
      ]
    },
    {
      "cell_type": "code",
      "metadata": {
        "id": "jqV9-9qtVRDs",
        "colab_type": "code",
        "outputId": "0bd97cd7-66be-4d8c-b1a3-962092ce1d10",
        "colab": {
          "base_uri": "https://localhost:8080/",
          "height": 286
        }
      },
      "source": [
        "library(keras)\n",
        "library(dplyr)\n",
        "library(cgdsr)"
      ],
      "execution_count": 3,
      "outputs": [
        {
          "output_type": "stream",
          "text": [
            "\n",
            "Attaching package: ‘dplyr’\n",
            "\n",
            "\n",
            "The following objects are masked from ‘package:stats’:\n",
            "\n",
            "    filter, lag\n",
            "\n",
            "\n",
            "The following objects are masked from ‘package:base’:\n",
            "\n",
            "    intersect, setdiff, setequal, union\n",
            "\n",
            "\n",
            "Please send questions to cbioportal@googlegroups.com\n",
            "\n"
          ],
          "name": "stderr"
        }
      ]
    },
    {
      "cell_type": "markdown",
      "metadata": {
        "id": "LADBaYWVUTTo",
        "colab_type": "text"
      },
      "source": [
        "# 1. What you will do in this R Notebook"
      ]
    },
    {
      "cell_type": "markdown",
      "metadata": {
        "id": "_1E5SepWYs20",
        "colab_type": "text"
      },
      "source": [
        "## Introduction\n",
        "This is the second day of your training in R for Machine Learning. You will now enter the wide, wild and exciting field of Deep Learning!\n",
        "\n",
        "Neural Networks and Deep Learning have revolutionized the performance of many Machine Learning tasks: in image analysis, gaming and natural langage understanding, for example.\n",
        "\n",
        "Again your input is a huge amount of variables (genes expression per patients) and you want to provide the clinician a simple output that he can use for his patients.\n",
        "\n",
        "I hope you’ll enjoy this Notebook and that it can help you to adress your current and/or future challenges.\n",
        "\n",
        "## Main steps\n",
        "After loading TCGA data, we will build and train a simple neural network.\n",
        "\n",
        "## In practice\n",
        "The code is provided to you. You will just have to follow the instructions all along the Notebook. I’ll give you a little bit of explanation when needed.\n",
        "\n",
        "Pay attention: there will be some questions to answer in this notebook.\n",
        "\n",
        "Finally you will have a partial code to complete at the end of the notebook, and give it back to us.\n",
        "\n",
        "–> lets’ go!"
      ]
    },
    {
      "cell_type": "markdown",
      "metadata": {
        "id": "B7n71f6sY4pO",
        "colab_type": "text"
      },
      "source": [
        "# 2. Load the data\n",
        "Keras is a library of functions specifically dedicated to the building, training and testing of a wide range of neural networks. The math is pre-computed, and functions are relatively user-friendly: is a high level API. It can use several lower level back-ends for the math and calculation. We use the default one: Tensorflow. Tensorflow is a way to perform computations with high dimensional data, using computational graphs Keras and Tensorflow have been develloped by Google and are open source.\n",
        "\n",
        "Load and install Keras."
      ]
    },
    {
      "cell_type": "code",
      "metadata": {
        "id": "SjkoT6peZJAs",
        "colab_type": "code",
        "colab": {}
      },
      "source": [
        "source(\"https://raw.githubusercontent.com/gustaveroussy/IFSBM-bigdata/master/TP_IFSBM_module12/2020/labs/lib/LoadcBioportal150119.R\")\n",
        "set.seed(1234)"
      ],
      "execution_count": 0,
      "outputs": []
    },
    {
      "cell_type": "markdown",
      "metadata": {
        "id": "bGohvWbnZtGP",
        "colab_type": "text"
      },
      "source": [
        "Select the genes you want to use."
      ]
    },
    {
      "cell_type": "code",
      "metadata": {
        "id": "-SdN80FeZJNy",
        "colab_type": "code",
        "outputId": "6cf6fe1f-2985-4dbc-8276-863a878bd0b7",
        "colab": {
          "base_uri": "https://localhost:8080/",
          "height": 54
        }
      },
      "source": [
        "CGS <- read.csv(\"https://raw.githubusercontent.com/gustaveroussy/IFSBM-bigdata/master/TP_IFSBM_module12/2020/labs/lab_2/data/CancerGeneCensusCOSMIC.csv\",stringsAsFactors = F)\n",
        "GENES <- CGS$Gene.Symbol[CGS$Hallmark==\"Yes\"]\n",
        "print(paste(\"You have selected\",length(GENES),\"important cancer genes like:\", paste(sample(GENES,20), collapse = \", \"), \"...\"))"
      ],
      "execution_count": 5,
      "outputs": [
        {
          "output_type": "stream",
          "text": [
            "[1] \"You have selected 251 important cancer genes like: AXIN2, CNBP, HIP1, EGFR, TCL1A, ERBB2, FLT3, FGFR3, LEF1, GNAQ, FGFR2, DNM2, EIF4A2, RAF1, DAXX, CDK4, CLTCL1, PTEN, ERCC3, AR ...\"\n"
          ],
          "name": "stdout"
        }
      ]
    },
    {
      "cell_type": "markdown",
      "metadata": {
        "id": "7ArSbeptZv2D",
        "colab_type": "text"
      },
      "source": [
        "Dowload TCGA data from the LoadcBioportal that you know."
      ]
    },
    {
      "cell_type": "code",
      "metadata": {
        "id": "lp596q4sZwGh",
        "colab_type": "code",
        "outputId": "5b02a2a6-e926-4bf0-df69-783590c94eab",
        "colab": {
          "base_uri": "https://localhost:8080/",
          "height": 252
        }
      },
      "source": [
        "# load TCGA data of lung adenocarcinoma and lung squamous cell carcinoma\n",
        "\n",
        "# set the argument Organ \n",
        "TCGAdata <- LoadcBioportal(\n",
        "  Genes = GENES, \n",
        "  Organ = \"luad|lusc\",\n",
        "  ClinicNeeded = T, \n",
        "  MutNeeded = F,   \n",
        "  RNANeeded = T, \n",
        "  NormalizeRNA = T, \n",
        "  FunctionalAnnot = F, \n",
        "  PDF = F, \n",
        "  Tests=T\n",
        ")"
      ],
      "execution_count": 6,
      "outputs": [
        {
          "output_type": "stream",
          "text": [
            "getCancerStudies...  OK\n",
            "getCaseLists (1/2) ...  OK\n",
            "getCaseLists (2/2) ...  OK\n",
            "getGeneticProfiles (1/2) ...  OK\n",
            "getGeneticProfiles (2/2) ...  OK\n",
            "getClinicalData (1/1) ...  OK\n",
            "getProfileData (1/6) ...  OK\n",
            "getProfileData (2/6) ...  OK\n",
            "getProfileData (3/6) ...  OK\n",
            "getProfileData (4/6) ...  OK\n",
            "getProfileData (5/6) ...  OK\n",
            "getProfileData (6/6) ...  OK\n",
            "[1] \"Pooling : luad_tcga_pub & lusc_tcga\"\n",
            "[1] \"Discard HRAS because NAs in RNAseq\"\n"
          ],
          "name": "stdout"
        }
      ]
    },
    {
      "cell_type": "code",
      "metadata": {
        "id": "QtAz3zRXlSNs",
        "colab_type": "code",
        "outputId": "1ea8e8bd-b07f-47e3-cd4e-c004eaf87a80",
        "colab": {
          "base_uri": "https://localhost:8080/",
          "height": 168
        }
      },
      "source": [
        "STUDY<-TCGAdata$STUDY\n",
        "paste(rep(\"=\", 40), collapse=\"\")\n",
        "paste(\"Number of patients\")\n",
        "table(TCGAdata$CLINIC$study)\n",
        "paste(\"Dimensions TCGAdata$EXP:\")\n",
        "paste(\"nrow: \", nrow(TCGAdata$EXP))\n",
        "paste(\"ncol: \", ncol(TCGAdata$EXP))\n",
        "paste(rep(\"=\", 40), collapse=\"\")"
      ],
      "execution_count": 7,
      "outputs": [
        {
          "output_type": "display_data",
          "data": {
            "text/plain": [
              "[1] \"========================================\""
            ],
            "text/latex": "'========================================'",
            "text/markdown": "'========================================'",
            "text/html": [
              "'========================================'"
            ]
          },
          "metadata": {
            "tags": []
          }
        },
        {
          "output_type": "display_data",
          "data": {
            "text/plain": [
              "[1] \"Number of patients\""
            ],
            "text/latex": "'Number of patients'",
            "text/markdown": "'Number of patients'",
            "text/html": [
              "'Number of patients'"
            ]
          },
          "metadata": {
            "tags": []
          }
        },
        {
          "output_type": "display_data",
          "data": {
            "text/plain": [
              "\n",
              "luad lusc \n",
              " 230  178 "
            ]
          },
          "metadata": {
            "tags": []
          }
        },
        {
          "output_type": "display_data",
          "data": {
            "text/plain": [
              "[1] \"Dimensions TCGAdata$EXP:\""
            ],
            "text/latex": "'Dimensions TCGAdata\\$EXP:'",
            "text/markdown": "'Dimensions TCGAdata$EXP:'",
            "text/html": [
              "'Dimensions TCGAdata$EXP:'"
            ]
          },
          "metadata": {
            "tags": []
          }
        },
        {
          "output_type": "display_data",
          "data": {
            "text/plain": [
              "[1] \"nrow:  408\""
            ],
            "text/latex": "'nrow:  408'",
            "text/markdown": "<span style=white-space:pre-wrap>'nrow:  408'</span>",
            "text/html": [
              "<span style=white-space:pre-wrap>'nrow:  408'</span>"
            ]
          },
          "metadata": {
            "tags": []
          }
        },
        {
          "output_type": "display_data",
          "data": {
            "text/plain": [
              "[1] \"ncol:  250\""
            ],
            "text/latex": "'ncol:  250'",
            "text/markdown": "<span style=white-space:pre-wrap>'ncol:  250'</span>",
            "text/html": [
              "<span style=white-space:pre-wrap>'ncol:  250'</span>"
            ]
          },
          "metadata": {
            "tags": []
          }
        },
        {
          "output_type": "display_data",
          "data": {
            "text/plain": [
              "[1] \"========================================\""
            ],
            "text/latex": "'========================================'",
            "text/markdown": "'========================================'",
            "text/html": [
              "'========================================'"
            ]
          },
          "metadata": {
            "tags": []
          }
        }
      ]
    },
    {
      "cell_type": "markdown",
      "metadata": {
        "id": "ncHmzm_tm6x8",
        "colab_type": "text"
      },
      "source": [
        "# 3. Keras"
      ]
    },
    {
      "cell_type": "markdown",
      "metadata": {
        "id": "9LQquWxJm5pg",
        "colab_type": "text"
      },
      "source": [
        "Keras is a library of functions specifically dedicated to the building, training and testing of a wide range of neural networks. The math is pre-computed, and functions are relatively user-friendly: is a high level API. It can use several lower level back-ends for the math and calculation. We use the default one: Tensorflow. Tensorflow is a way to perform computations with high dimensional data, using computational graphs Keras and Tensorflow have been develloped by Google and are open source."
      ]
    },
    {
      "cell_type": "markdown",
      "metadata": {
        "id": "1ktTx2Q0nVzD",
        "colab_type": "text"
      },
      "source": [
        "## 3.1 Model building\n",
        "Building the neural network requires configuring the layers of the model, then compiling the model. Look at the slides! (computational graphs and neural nets)\n",
        "\n",
        "Setup the layers\n",
        "The basic building block of a neural network is the layer. Layers extract representations from the data fed into them. And, hopefully, these representations are more meaningful for the problem at hand. Most of deep learning consists of chaining together simple layers. Most layers, like layer_dense, have parameters that are learned during training.\n",
        "\n"
      ]
    },
    {
      "cell_type": "code",
      "metadata": {
        "id": "Hnn9_ftnl6fm",
        "colab_type": "code",
        "colab": {}
      },
      "source": [
        "#### define the architecture\n",
        "model <- keras_model_sequential()\n",
        "model %>%\n",
        "  layer_dense(input_shape = 250, units = 128, activation = 'relu') %>%\n",
        "  layer_dense(units = 30, activation = 'relu') %>%\n",
        "  layer_dense(units = 2, activation = 'sigmoid')\n",
        "summary(model)"
      ],
      "execution_count": 0,
      "outputs": []
    },
    {
      "cell_type": "markdown",
      "metadata": {
        "id": "vVp3SMzWZzHL",
        "colab_type": "text"
      },
      "source": [
        "## 3.2 Compile the model\n",
        "Before the model is ready for training, it needs a few more settings. These are added during the model’s compile step:\n",
        "\n",
        "Loss function - This measures how accurate the model is during training. We want to minimize this function to “steer” the model in the right direction. Optimizer - This is how the model is updated based on the data it sees and its loss function. Metrics -Used to monitor the training and testing steps. The following example uses accuracy, the fraction of the images that are correctly classified."
      ]
    },
    {
      "cell_type": "code",
      "metadata": {
        "id": "0e09XUU6oMu4",
        "colab_type": "code",
        "colab": {}
      },
      "source": [
        "model %>% compile(\n",
        "  optimizer = 'adam', \n",
        "  loss = 'mse',\n",
        "  metrics = c('accuracy')\n",
        ")"
      ],
      "execution_count": 0,
      "outputs": []
    },
    {
      "cell_type": "markdown",
      "metadata": {
        "id": "_wjr9FsYoXER",
        "colab_type": "text"
      },
      "source": [
        "# 4. Train and evaluate the model"
      ]
    },
    {
      "cell_type": "markdown",
      "metadata": {
        "id": "wNogzxWLoZLq",
        "colab_type": "text"
      },
      "source": [
        "Training the neural network model requires the following steps:\n",
        "\n",
        "Feed the training data to the model - in this example, the train_images and train_labels arrays. The model learns to associate images and labels. We ask the model to make predictions about a test set - in this example, the test_images array. We verify that the predictions match the labels from the test_labels array. To start training, call the fit method - the model is “fit” to the training data:\n",
        "\n",
        "As the model trains, the loss and accuracy metrics are displayed. This model reaches an accuracy of about XX on the training data."
      ]
    },
    {
      "cell_type": "markdown",
      "metadata": {
        "id": "SXVOc4XWrN_9",
        "colab_type": "text"
      },
      "source": [
        "### Training parameters"
      ]
    },
    {
      "cell_type": "code",
      "metadata": {
        "id": "xWvEJUAtrSOL",
        "colab_type": "code",
        "colab": {}
      },
      "source": [
        "TrainSplit <- 0.8   #### size of train split"
      ],
      "execution_count": 0,
      "outputs": []
    },
    {
      "cell_type": "code",
      "metadata": {
        "id": "Mdj1a4yErJWo",
        "colab_type": "code",
        "outputId": "2350d29e-ab19-4385-84c4-aeab8f7f7010",
        "colab": {
          "base_uri": "https://localhost:8080/",
          "height": 50
        }
      },
      "source": [
        "### split the data\n",
        "Train <- sample(seq(nrow(TCGAdata$CLINIC)),size = round(nrow(TCGAdata$CLINIC)*TrainSplit) )\n",
        "Val   <- seq(nrow(TCGAdata$CLINIC))[!seq(nrow(TCGAdata$CLINIC)) %in% Train]\n",
        "paste(\"SIZE TRAINING: \", length(Train), sep=\"\")\n",
        "paste(\"SIZE VALIDATION: \", length(Val), sep=\"\")"
      ],
      "execution_count": 11,
      "outputs": [
        {
          "output_type": "display_data",
          "data": {
            "text/plain": [
              "[1] \"SIZE TRAINING: 326\""
            ],
            "text/latex": "'SIZE TRAINING: 326'",
            "text/markdown": "'SIZE TRAINING: 326'",
            "text/html": [
              "'SIZE TRAINING: 326'"
            ]
          },
          "metadata": {
            "tags": []
          }
        },
        {
          "output_type": "display_data",
          "data": {
            "text/plain": [
              "[1] \"SIZE VALIDATION: 82\""
            ],
            "text/latex": "'SIZE VALIDATION: 82'",
            "text/markdown": "'SIZE VALIDATION: 82'",
            "text/html": [
              "'SIZE VALIDATION: 82'"
            ]
          },
          "metadata": {
            "tags": []
          }
        }
      ]
    },
    {
      "cell_type": "code",
      "metadata": {
        "id": "1Vsp5UfEqVWa",
        "colab_type": "code",
        "colab": {}
      },
      "source": [
        "#### use the genes expression\n",
        "xTrain <- as.matrix(TCGAdata$EXP[Train,])\n",
        "xVal   <- as.matrix(TCGAdata$EXP[Val,])\n",
        "\n",
        "#### target: the organs\n",
        "yTrain <- TCGAdata$CLINIC$study[Train]\n",
        "yVal   <- TCGAdata$CLINIC$study[Val]\n",
        "\n",
        "#### encode the organs\n",
        "cat2Int <- list(\"luad\"=0, \"lusc\"=1)\n",
        "for (cat in names(cat2Int)){\n",
        "  yTrain[yTrain==cat] <- cat2Int[cat]\n",
        "  yVal[yVal==cat] <- cat2Int[cat]\n",
        "}\n",
        "\n",
        "yTrain <- to_categorical(yTrain, 2)\n",
        "yVal   <- to_categorical(yVal, 2)"
      ],
      "execution_count": 0,
      "outputs": []
    },
    {
      "cell_type": "code",
      "metadata": {
        "id": "8NFgaQCa_wtD",
        "colab_type": "code",
        "colab": {}
      },
      "source": [
        "?fit()"
      ],
      "execution_count": 0,
      "outputs": []
    },
    {
      "cell_type": "code",
      "metadata": {
        "id": "u-YM9_VrpB9P",
        "colab_type": "code",
        "colab": {}
      },
      "source": [
        "#### record training history\n",
        "history <- model %>% fit(\n",
        "    x                = xTrain,\n",
        "    y                = yTrain,\n",
        "    epochs           = 100,\n",
        "    validation_split = 0.2,\n",
        "    shuffle          = FALSE\n",
        ")"
      ],
      "execution_count": 0,
      "outputs": []
    },
    {
      "cell_type": "code",
      "metadata": {
        "id": "ml63-uYwVnF7",
        "colab_type": "code",
        "outputId": "d0d36b7d-8f41-4239-8f19-5f56119e6513",
        "colab": {
          "base_uri": "https://localhost:8080/",
          "height": 437
        }
      },
      "source": [
        "#### training curves\n",
        "plot(history)"
      ],
      "execution_count": 16,
      "outputs": [
        {
          "output_type": "display_data",
          "data": {
            "image/png": "[encoded data removed]",
            "text/plain": [
              "plot without title"
            ]
          },
          "metadata": {
            "tags": [],
            "image/png": {
              "width": 420,
              "height": 420
            },
            "text/plain": {
              "width": 420,
              "height": 420
            }
          }
        }
      ]
    },
    {
      "cell_type": "code",
      "metadata": {
        "id": "GOMb6NGTAfL3",
        "colab_type": "code",
        "colab": {
          "base_uri": "https://localhost:8080/",
          "height": 185
        },
        "outputId": "812cf0e4-4b78-43c1-ed75-b3fd18e5430f"
      },
      "source": [
        "##### Train\n",
        "paste(\"train\")\n",
        "predTrain <- model %>% predict_classes(xTrain)\n",
        "table(predTrain,TCGAdata$CLINIC$study[Train])\n",
        "\n",
        "#### Val\n",
        "paste(\"val\")\n",
        "predVal <- model %>% predict_classes(xVal)\n",
        "table(predVal,TCGAdata$CLINIC$study[Val])"
      ],
      "execution_count": 24,
      "outputs": [
        {
          "output_type": "display_data",
          "data": {
            "text/plain": [
              "[1] \"train\""
            ],
            "text/latex": "'train'",
            "text/markdown": "'train'",
            "text/html": [
              "'train'"
            ]
          },
          "metadata": {
            "tags": []
          }
        },
        {
          "output_type": "display_data",
          "data": {
            "text/plain": [
              "         \n",
              "predTrain luad lusc\n",
              "        0  181    2\n",
              "        1    2  141"
            ]
          },
          "metadata": {
            "tags": []
          }
        },
        {
          "output_type": "display_data",
          "data": {
            "text/plain": [
              "[1] \"val\""
            ],
            "text/latex": "'val'",
            "text/markdown": "'val'",
            "text/html": [
              "'val'"
            ]
          },
          "metadata": {
            "tags": []
          }
        },
        {
          "output_type": "display_data",
          "data": {
            "text/plain": [
              "       \n",
              "predVal luad lusc\n",
              "      0   47    2\n",
              "      1    0   33"
            ]
          },
          "metadata": {
            "tags": []
          }
        }
      ]
    },
    {
      "cell_type": "markdown",
      "metadata": {
        "id": "8YmDlY4NAqKj",
        "colab_type": "text"
      },
      "source": [
        "# 5. Your turn: do better !"
      ]
    },
    {
      "cell_type": "markdown",
      "metadata": {
        "id": "OT9zPp0eEFQ3",
        "colab_type": "text"
      },
      "source": [
        "### Survival at 1 year"
      ]
    },
    {
      "cell_type": "code",
      "metadata": {
        "id": "44jTSVAYFabw",
        "colab_type": "code",
        "colab": {
          "base_uri": "https://localhost:8080/",
          "height": 252
        },
        "outputId": "d0c58c81-60ab-408a-9518-8f93b9f29183"
      },
      "source": [
        "#### drop na in survival\n",
        "TCGAClinicSurv <- TCGAdata$CLINIC[!TCGAdata$CLINIC$OS_STATUS=='',]\n",
        "TCGAExpSurv <- TCGAdata$EXP[!TCGAdata$CLINIC$OS_STATUS=='',]\n",
        "\n",
        "#### split the data\n",
        "Train <- sample(seq(nrow(TCGAClinicSurv)), size = round(nrow(TCGAClinicSurv)*TrainSplit) )\n",
        "Val   <- seq(nrow(TCGAClinicSurv))[!seq(nrow(TCGAClinicSurv)) %in% Train]\n",
        "paste(\"SIZE TRAINING: \", length(Train), sep=\"\")\n",
        "paste(\"SIZE VALIDATION: \", length(Val), sep=\"\")\n",
        "\n",
        "#### gene expression\n",
        "#### use the genes expression\n",
        "xTrain <- as.matrix(TCGAExpSurv[Train,])\n",
        "xVal   <- as.matrix(TCGAExpSurv[Val,])\n",
        "\n",
        "#### survival horizon in months\n",
        "tLim  <- 12                           \n",
        "ySurv <- TCGAClinicSurv$OS_STATUS\n",
        "tSurv <- TCGAClinicSurv$OS_MONTHS\n",
        "\n",
        "#### patients who died after tLim are set to LIVING\n",
        "ySurv[ySurv == \"DECEASED\" & tSurv > tLim] <- \"LIVING\"\n",
        "\n",
        "#### all survival\n",
        "paste(\"all\")\n",
        "table(ySurv)\n",
        "\n",
        "#### survival status at tLim\n",
        "yTrain <- ySurv[Train]\n",
        "yVal   <- ySurv[Val]\n",
        "\n",
        "#### train/val survival\n",
        "paste(\"train\")\n",
        "table(yTrain)\n",
        "paste(\"val\")\n",
        "table(yVal)\n",
        "\n",
        "#### encode the survival\n",
        "cat2Int <- list(\"LIVING\"=1, \"DECEASED\"=0)\n",
        "for (cat in names(cat2Int)){\n",
        "  yTrain[yTrain==cat] <- cat2Int[cat]\n",
        "  yVal[yVal==cat] <- cat2Int[cat]\n",
        "  ySurv[ySurv==cat] <- cat2Int[cat]\n",
        "}\n",
        "\n",
        "#### encode\n",
        "yTrain <- to_categorical(yTrain, 2)\n",
        "yVal   <- to_categorical(yVal, 2)\n",
        "ySurv  <- to_categorical(ySurv, 2)"
      ],
      "execution_count": 115,
      "outputs": [
        {
          "output_type": "display_data",
          "data": {
            "text/plain": [
              "[1] \"SIZE TRAINING: 321\""
            ],
            "text/latex": "'SIZE TRAINING: 321'",
            "text/markdown": "'SIZE TRAINING: 321'",
            "text/html": [
              "'SIZE TRAINING: 321'"
            ]
          },
          "metadata": {
            "tags": []
          }
        },
        {
          "output_type": "display_data",
          "data": {
            "text/plain": [
              "[1] \"SIZE VALIDATION: 80\""
            ],
            "text/latex": "'SIZE VALIDATION: 80'",
            "text/markdown": "'SIZE VALIDATION: 80'",
            "text/html": [
              "'SIZE VALIDATION: 80'"
            ]
          },
          "metadata": {
            "tags": []
          }
        },
        {
          "output_type": "display_data",
          "data": {
            "text/plain": [
              "[1] \"all\""
            ],
            "text/latex": "'all'",
            "text/markdown": "'all'",
            "text/html": [
              "'all'"
            ]
          },
          "metadata": {
            "tags": []
          }
        },
        {
          "output_type": "display_data",
          "data": {
            "text/plain": [
              "ySurv\n",
              "DECEASED   LIVING \n",
              "      59      342 "
            ]
          },
          "metadata": {
            "tags": []
          }
        },
        {
          "output_type": "display_data",
          "data": {
            "text/plain": [
              "[1] \"train\""
            ],
            "text/latex": "'train'",
            "text/markdown": "'train'",
            "text/html": [
              "'train'"
            ]
          },
          "metadata": {
            "tags": []
          }
        },
        {
          "output_type": "display_data",
          "data": {
            "text/plain": [
              "yTrain\n",
              "DECEASED   LIVING \n",
              "      52      269 "
            ]
          },
          "metadata": {
            "tags": []
          }
        },
        {
          "output_type": "display_data",
          "data": {
            "text/plain": [
              "[1] \"val\""
            ],
            "text/latex": "'val'",
            "text/markdown": "'val'",
            "text/html": [
              "'val'"
            ]
          },
          "metadata": {
            "tags": []
          }
        },
        {
          "output_type": "display_data",
          "data": {
            "text/plain": [
              "yVal\n",
              "DECEASED   LIVING \n",
              "       7       73 "
            ]
          },
          "metadata": {
            "tags": []
          }
        }
      ]
    },
    {
      "cell_type": "markdown",
      "metadata": {
        "id": "YorZRA6pCIKj",
        "colab_type": "text"
      },
      "source": [
        "### Model architecture"
      ]
    },
    {
      "cell_type": "code",
      "metadata": {
        "id": "19LmvL_OA1xH",
        "colab_type": "code",
        "colab": {
          "base_uri": "https://localhost:8080/",
          "height": 252
        },
        "outputId": "cf2c14e2-bbf4-49f1-bd60-d5ecc8dbed34"
      },
      "source": [
        "#### define the architecture\n",
        "model <- keras_model_sequential()\n",
        "model %>%\n",
        "  layer_dense(input_shape = 250, units = 128, activation = 'relu') %>%\n",
        "  layer_dense(units = 30, activation = 'relu') %>%\n",
        "  layer_dense(units = 2, activation = 'sigmoid')\n",
        "summary(model)"
      ],
      "execution_count": 116,
      "outputs": [
        {
          "output_type": "stream",
          "text": [
            "Model: \"sequential_4\"\n",
            "________________________________________________________________________________\n",
            "Layer (type)                        Output Shape                    Param #     \n",
            "================================================================================\n",
            "dense_12 (Dense)                    (None, 128)                     32128       \n",
            "________________________________________________________________________________\n",
            "dense_13 (Dense)                    (None, 30)                      3870        \n",
            "________________________________________________________________________________\n",
            "dense_14 (Dense)                    (None, 2)                       62          \n",
            "================================================================================\n",
            "Total params: 36,060\n",
            "Trainable params: 36,060\n",
            "Non-trainable params: 0\n",
            "________________________________________________________________________________\n"
          ],
          "name": "stdout"
        }
      ]
    },
    {
      "cell_type": "code",
      "metadata": {
        "id": "GeDMRJH8A97f",
        "colab_type": "code",
        "colab": {}
      },
      "source": [
        "model %>% compile(\n",
        "  optimizer = 'adam', \n",
        "  loss = 'mse',\n",
        "  metrics = c('accuracy')\n",
        ")"
      ],
      "execution_count": 0,
      "outputs": []
    },
    {
      "cell_type": "markdown",
      "metadata": {
        "id": "3ECjFmyrCMmr",
        "colab_type": "text"
      },
      "source": [
        "#### Fit to the data"
      ]
    },
    {
      "cell_type": "code",
      "metadata": {
        "id": "x25HvooABAZR",
        "colab_type": "code",
        "colab": {}
      },
      "source": [
        "#### record training history\n",
        "history <- model %>% fit(\n",
        "    x                = xTrain,\n",
        "    y                = yTrain,\n",
        "    epochs           = 100,\n",
        "    validation_split = 0.2,\n",
        "    shuffle          = FALSE\n",
        ")"
      ],
      "execution_count": 0,
      "outputs": []
    },
    {
      "cell_type": "code",
      "metadata": {
        "id": "D422NdY9BKXl",
        "colab_type": "code",
        "colab": {
          "base_uri": "https://localhost:8080/",
          "height": 437
        },
        "outputId": "4194e5bf-ef99-4c0f-d8dd-c9728e49b8a7"
      },
      "source": [
        "#### training curves\n",
        "plot(history)"
      ],
      "execution_count": 121,
      "outputs": [
        {
          "output_type": "display_data",
          "data": {
            "image/png": "[encoded data removed]",
            "text/plain": [
              "plot without title"
            ]
          },
          "metadata": {
            "tags": [],
            "image/png": {
              "width": 420,
              "height": 420
            },
            "text/plain": {
              "width": 420,
              "height": 420
            }
          }
        }
      ]
    },
    {
      "cell_type": "markdown",
      "metadata": {
        "id": "KQlbJlTOBPBp",
        "colab_type": "text"
      },
      "source": [
        "#### Performance evaluation\n"
      ]
    },
    {
      "cell_type": "code",
      "metadata": {
        "id": "atV5OEBZBOGc",
        "colab_type": "code",
        "colab": {
          "base_uri": "https://localhost:8080/",
          "height": 185
        },
        "outputId": "829664f9-4d28-4602-8ee4-4c1b0082e6d6"
      },
      "source": [
        "##### Train\n",
        "paste(\"train\")\n",
        "predTrain <- model %>% predict_classes(xTrain)\n",
        "table(predTrain,ySurv[Train])\n",
        "\n",
        "#### Val\n",
        "paste(\"val\")\n",
        "predVal <- model %>% predict_classes(xVal)\n",
        "table(predVal,ySurv[Val])"
      ],
      "execution_count": 122,
      "outputs": [
        {
          "output_type": "display_data",
          "data": {
            "text/plain": [
              "[1] \"train\""
            ],
            "text/latex": "'train'",
            "text/markdown": "'train'",
            "text/html": [
              "'train'"
            ]
          },
          "metadata": {
            "tags": []
          }
        },
        {
          "output_type": "display_data",
          "data": {
            "text/plain": [
              "         \n",
              "predTrain   0   1\n",
              "        0  13  24\n",
              "        1 256  28"
            ]
          },
          "metadata": {
            "tags": []
          }
        },
        {
          "output_type": "display_data",
          "data": {
            "text/plain": [
              "[1] \"val\""
            ],
            "text/latex": "'val'",
            "text/markdown": "'val'",
            "text/html": [
              "'val'"
            ]
          },
          "metadata": {
            "tags": []
          }
        },
        {
          "output_type": "display_data",
          "data": {
            "text/plain": [
              "       \n",
              "predVal  0  1\n",
              "      0  5  2\n",
              "      1 68  5"
            ]
          },
          "metadata": {
            "tags": []
          }
        }
      ]
    },
    {
      "cell_type": "code",
      "metadata": {
        "id": "SBiCb_yDCB-C",
        "colab_type": "code",
        "colab": {}
      },
      "source": [
        ""
      ],
      "execution_count": 0,
      "outputs": []
    }
  ]
}